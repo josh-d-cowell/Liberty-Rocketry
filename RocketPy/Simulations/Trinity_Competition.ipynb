{
 "cells": [
  {
   "cell_type": "markdown",
   "id": "295b6d9b",
   "metadata": {},
   "source": [
    "This is a simulation replicating the flight from Trinity's Competition flight June 2025"
   ]
  },
  {
   "cell_type": "code",
   "execution_count": null,
   "id": "0b2b4f7f",
   "metadata": {
    "vscode": {
     "languageId": "plaintext"
    }
   },
   "outputs": [],
   "source": []
  }
 ],
 "metadata": {
  "language_info": {
   "name": "python"
  }
 },
 "nbformat": 4,
 "nbformat_minor": 5
}
